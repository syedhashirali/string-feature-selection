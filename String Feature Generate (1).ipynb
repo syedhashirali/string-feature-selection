{
 "cells": [
  {
   "cell_type": "code",
   "execution_count": 1,
   "metadata": {},
   "outputs": [],
   "source": [
    "import pandas as pd\n",
    "import numpy as np \n",
    "import itertools\n",
    "import re\n",
    "import matplotlib.pyplot as plt\n",
    "from matplotlib import style\n",
    "\n",
    "def StringMatrixGen(data,StringIndex,DropByLength,SplitOn,DropVolumePercent):\n",
    "    s1 = data.iloc[:,StringIndex].str.split(pat=SplitOn, expand=False)\n",
    "    s= list(itertools.chain(*s1))\n",
    "    s2=re.findall(r'[A-Z](?:[a-z]+|[A-Z]*(?=[A-Z]|))', str(s)) \n",
    "    s_unique = list(dict.fromkeys(s2))\n",
    "    s_unique2=[ elem for elem in s_unique if len(elem) >DropByLength ]\n",
    "    for substring in s_unique2:\n",
    "        data[substring]= np.where(data.iloc[:,StringIndex].str.contains(substring),1,0)\n",
    "    data= data.loc[:, (data==0).mean() < (100-DropVolumePercent)/100]\n",
    "    return data\n",
    "\n",
    "#data = dataframe with string variable as a column\n",
    "#StringIndex = Index of column that contains the string\n",
    "#DropByLength = Drop string features that have string less than this integer\n",
    "#SplitOn= character to split the index on before splitting to words for e.g \"|\" , \".\"  \"_\", etc. Must be accompanied by \"\"\n",
    "#DropVolumePercent = Drop string feature if it has a total volume of less than this integer in % terms. Enter 5 for 5%"
   ]
  },
  {
   "cell_type": "code",
   "execution_count": 2,
   "metadata": {
    "scrolled": true
   },
   "outputs": [
    {
     "data": {
      "text/plain": [
       "20"
      ]
     },
     "execution_count": 2,
     "metadata": {},
     "output_type": "execute_result"
    }
   ],
   "source": [
    "df = pd.read_csv(\"calltype_samples.csv\")\n",
    "newdf= StringMatrixGen(df,0,2,\"_\",5)\n",
    "len(newdf.columns)"
   ]
  },
  {
   "cell_type": "code",
   "execution_count": 3,
   "metadata": {},
   "outputs": [
    {
     "data": {
      "text/plain": [
       "array([0.10838224, 0.0250205 , 0.358099  , 0.03834079, 0.0135217 ,\n",
       "       0.02204944, 0.00073748, 0.00984573, 0.00906748, 0.04890016,\n",
       "       0.09429375, 0.1376383 , 0.00604716, 0.09446843, 0.        ,\n",
       "       0.0060518 , 0.02753604, 0.        ])"
      ]
     },
     "execution_count": 3,
     "metadata": {},
     "output_type": "execute_result"
    }
   ],
   "source": [
    "#regression tree with default parameters \n",
    "from sklearn.tree import DecisionTreeRegressor \n",
    "regressor = DecisionTreeRegressor(random_state = 1300)\n",
    "regressor.fit(newdf.iloc[:,2:30], newdf.AHT) \n",
    "regressor.feature_importances_"
   ]
  },
  {
   "cell_type": "code",
   "execution_count": 12,
   "metadata": {
    "scrolled": true
   },
   "outputs": [
    {
     "data": {
      "image/png": "[encoded data removed]",
      "text/plain": [
       "<Figure size 1800x360 with 1 Axes>"
      ]
     },
     "metadata": {
      "needs_background": "light"
     },
     "output_type": "display_data"
    }
   ],
   "source": [
    "plt.figure(figsize=(25, 5)) \n",
    "plt.bar(newdf.columns[2:(len(newdf.columns)+1)], regressor.feature_importances_, align='edge', alpha=0.5, width=0.3)\n",
    "plt.ylabel('Importance')\n",
    "plt.title('Feature')\n",
    "plt.rc('xtick', labelsize=12) \n",
    "plt.rc('ytick', labelsize=15) \n",
    "plt.show()"
   ]
  }
 ],
 "metadata": {
  "kernelspec": {
   "display_name": "Python 3",
   "language": "python",
   "name": "python3"
  },
  "language_info": {
   "codemirror_mode": {
    "name": "ipython",
    "version": 3
   },
   "file_extension": ".py",
   "mimetype": "text/x-python",
   "name": "python",
   "nbconvert_exporter": "python",
   "pygments_lexer": "ipython3",
   "version": "3.7.1"
  }
 },
 "nbformat": 4,
 "nbformat_minor": 4
}
